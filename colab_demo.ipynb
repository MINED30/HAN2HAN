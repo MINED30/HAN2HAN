{
  "nbformat": 4,
  "nbformat_minor": 0,
  "metadata": {
    "colab": {
      "name": "colab demo.ipynb",
      "provenance": [],
      "authorship_tag": "ABX9TyMkhPHsXHK9obA7Mr/x039T",
      "include_colab_link": true
    },
    "kernelspec": {
      "name": "python3",
      "display_name": "Python 3"
    },
    "language_info": {
      "name": "python"
    },
    "accelerator": "GPU"
  },
  "cells": [
    {
      "cell_type": "markdown",
      "metadata": {
        "id": "view-in-github",
        "colab_type": "text"
      },
      "source": [
        "<a href=\"https://colab.research.google.com/github/MINED30/HAN2HAN/blob/main/colab_demo.ipynb\" target=\"_parent\"><img src=\"https://colab.research.google.com/assets/colab-badge.svg\" alt=\"Open In Colab\"/></a>"
      ]
    },
    {
      "cell_type": "markdown",
      "metadata": {
        "id": "zZooIU3LcNGt"
      },
      "source": [
        "### Clone this repository"
      ]
    },
    {
      "cell_type": "code",
      "metadata": {
        "id": "f4ydBKB9dbRw"
      },
      "source": [
        "!git clone https://github.com/MINED30/HAN2HAN"
      ],
      "execution_count": null,
      "outputs": []
    },
    {
      "cell_type": "code",
      "metadata": {
        "id": "xB_IF-_mdjJF"
      },
      "source": [
        "%cd HAN2HAN"
      ],
      "execution_count": null,
      "outputs": []
    },
    {
      "cell_type": "markdown",
      "metadata": {
        "id": "PwCLI6BQcVcf"
      },
      "source": [
        "### Download weights and embeddings"
      ]
    },
    {
      "cell_type": "code",
      "metadata": {
        "id": "gnkR9y9Fdjq7"
      },
      "source": [
        "!bash download.sh"
      ],
      "execution_count": null,
      "outputs": []
    },
    {
      "cell_type": "markdown",
      "metadata": {
        "id": "UXHRkv0ncZQV"
      },
      "source": [
        "### Make directory and put your imgs"
      ]
    },
    {
      "cell_type": "code",
      "metadata": {
        "id": "rvPISnIreJyV"
      },
      "source": [
        "!mkdir targetimg"
      ],
      "execution_count": null,
      "outputs": []
    },
    {
      "cell_type": "code",
      "metadata": {
        "id": "GTPU1Waxhipq"
      },
      "source": [
        "# put your imgs into ./HAN2HAN/targetimg/\n",
        "# (*.jpg which is labeled)"
      ],
      "execution_count": null,
      "outputs": []
    },
    {
      "cell_type": "markdown",
      "metadata": {
        "id": "8QevIB9Cce13"
      },
      "source": [
        "### Run"
      ]
    },
    {
      "cell_type": "code",
      "metadata": {
        "id": "LuNst9xEdkow",
        "collapsed": true
      },
      "source": [
        "%run generate.py"
      ],
      "execution_count": null,
      "outputs": []
    }
  ]
}